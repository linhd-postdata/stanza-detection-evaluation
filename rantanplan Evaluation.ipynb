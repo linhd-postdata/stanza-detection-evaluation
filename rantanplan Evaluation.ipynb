{
 "cells": [
  {
   "cell_type": "code",
   "execution_count": null,
   "metadata": {},
   "outputs": [],
   "source": [
    "!python -m spacy download es_core_news_md\n",
    "!python -m spacy_affixes download es"
   ]
  },
  {
   "cell_type": "code",
   "execution_count": null,
   "metadata": {},
   "outputs": [],
   "source": [
    "from rantanplan import get_scansion\n",
    "import pandas as pd\n",
    "import re\n",
    "import json\n",
    "from tqdm.notebook import tqdm\n",
    "import sklearn.metrics\n",
    "\n",
    "import matplotlib.pyplot as plt\n",
    "from sklearn.metrics import ConfusionMatrixDisplay"
   ]
  },
  {
   "cell_type": "code",
   "execution_count": null,
   "metadata": {},
   "outputs": [],
   "source": [
    "df = pd.read_csv('annotation-final-sorted-filtered.csv', sep=',')"
   ]
  },
  {
   "cell_type": "code",
   "execution_count": null,
   "metadata": {},
   "outputs": [],
   "source": [
    "def clean_text(string):\n",
    "    output = string.strip()\n",
    "    # replacements = ((\"“\", '\"'), (\"”\", '\"'), (\"//\", \"\"), (\"«\", '\"'), (\"»\",'\"'))\n",
    "    \n",
    "    # Quitamos símbolos que no aportan información\n",
    "    replacements = (\n",
    "        (\"_\", \" \"), (\"x000D\", \" \"), (\"-\", \" \"),\n",
    "        (\"[\", \"\"), (\"]\", \"\"), (\"'\", \"\"), (\"#\", \" \"),\n",
    "    )\n",
    "    for replacement in replacements:\n",
    "        output = output.replace(*replacement)\n",
    "    # Any sequence of two or more spaces should be converted into one space\n",
    "    #output = re.sub(r'(?is)\\s+', ' ', output)\n",
    "    output = re.sub(r'[0-9]', '', output)  # Quitar números\n",
    "    output = re.sub(r'(\\s*\\*)+\\n', '', output)  # Quitar líneas con asteriscos\n",
    "    output = re.sub(r'\\t+', ' ', output)  # Cambiar tabulaciones por espacios\n",
    "    output = re.sub(r'\\n{2,}', '\\n', output)  # Cambiar varios saltos de línea seguidos por uno solo\n",
    "    output = re.sub(r' {2,}', ' ', output)  # Cambiar varios espacios seguidos por uno solo\n",
    "\n",
    "    return output.strip()"
   ]
  },
  {
   "cell_type": "code",
   "execution_count": null,
   "metadata": {},
   "outputs": [],
   "source": [
    "df.Stanza_text = df.Stanza_text.apply(lambda x: clean_text(x))"
   ]
  },
  {
   "cell_type": "code",
   "execution_count": null,
   "metadata": {
    "scrolled": true
   },
   "outputs": [],
   "source": [
    "errors = []\n",
    "eval_dict = {}\n",
    "for idx, stanza in tqdm(enumerate(df.Stanza_text)):\n",
    "    try:\n",
    "        eval_dict[idx] = {\"rantanplan\": get_scansion(stanza, rhyme_analysis=True)[0].get(\"structure\"), \"correct\": str(df.ST_Correct[idx]), \"text\": stanza}\n",
    "    except:\n",
    "        errors.append(stanza)\n",
    "        print('#######', stanza)\n",
    "        continue"
   ]
  },
  {
   "cell_type": "markdown",
   "metadata": {},
   "source": [
    "## Evaluation"
   ]
  },
  {
   "cell_type": "code",
   "execution_count": null,
   "metadata": {},
   "outputs": [],
   "source": [
    "#out_evaluation = [\"sonnet\", \"terceto_encadenado\", \"décima_antigua\", \"copla_mixta\"]\n",
    "out_of_evaluation = [\"sonnet\", \"terceto_encadenado\"]\n",
    "dict_revision = {}\n",
    "text, annotated_type, rantanplan_type = ([], [],[])\n",
    "for value in eval_dict.values():\n",
    "    #if value[\"correct\"] == \"copla_mixta\":\n",
    "    #    continue\n",
    "    annotated_type.append(value[\"correct\"])\n",
    "    if value[\"rantanplan\"] is None or value[\"rantanplan\"] in out_evalout_of_evaluationuation:\n",
    "        value[\"rantanplan\"] = 'None'\n",
    "    rantanplan_type.append(value[\"rantanplan\"])\n",
    "    text.append(value[\"text\"])\n",
    "dict_revision.update({'text': text,'y_true': annotated_type, 'y_pred': rantanplan_type})"
   ]
  },
  {
   "cell_type": "code",
   "execution_count": null,
   "metadata": {},
   "outputs": [],
   "source": [
    "df_eval = pd.DataFrame.from_dict(dict_revision)"
   ]
  },
  {
   "cell_type": "code",
   "execution_count": null,
   "metadata": {},
   "outputs": [],
   "source": [
    "precision,recall,f1,_ = sklearn.metrics.precision_recall_fscore_support(df_eval.y_true, df_eval.y_pred, average=\"macro\", zero_division=0)\n",
    "mcc = sklearn.metrics.matthews_corrcoef(df_eval.y_true, df_eval.y_pred)\n",
    "print(\"Precision: \", precision)\n",
    "print(\"Recall: \", recall)\n",
    "print(\"F1: \", f1)\n",
    "print(\"MCC :\", mcc)"
   ]
  },
  {
   "cell_type": "code",
   "execution_count": null,
   "metadata": {},
   "outputs": [],
   "source": [
    "accuracy = sklearn.metrics.accuracy_score(df_eval.y_true, df_eval.y_pred)\n",
    "print(\"Accuracy: \", accuracy)"
   ]
  },
  {
   "cell_type": "code",
   "execution_count": null,
   "metadata": {},
   "outputs": [],
   "source": [
    "conf_matrix = sklearn.metrics.confusion_matrix(df_eval.y_true, df_eval.y_pred,labels = sorted(df_eval.y_true.unique()))"
   ]
  },
  {
   "cell_type": "code",
   "execution_count": null,
   "metadata": {},
   "outputs": [],
   "source": [
    "plt.rcParams['font.size'] = 25\n",
    "plt.rcParams[\"figure.figsize\"] = (40,40)\n",
    "\n",
    "display_labels = sorted(df_eval.y_true.unique())\n",
    "disp = ConfusionMatrixDisplay(confusion_matrix=conf_matrix,\n",
    "                              display_labels=display_labels)\n",
    "\n",
    "disp = disp.plot(include_values=True, cmap='Blues', xticks_rotation='vertical')\n",
    "plt.show()"
   ]
  }
 ],
 "metadata": {
  "kernelspec": {
   "display_name": "Python 3",
   "language": "python",
   "name": "python3"
  },
  "language_info": {
   "codemirror_mode": {
    "name": "ipython",
    "version": 3
   },
   "file_extension": ".py",
   "mimetype": "text/x-python",
   "name": "python",
   "nbconvert_exporter": "python",
   "pygments_lexer": "ipython3",
   "version": "3.8.6"
  }
 },
 "nbformat": 4,
 "nbformat_minor": 4
}
