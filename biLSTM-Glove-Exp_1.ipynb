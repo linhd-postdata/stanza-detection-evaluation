{
 "cells": [
  {
   "cell_type": "code",
   "execution_count": 8,
   "metadata": {},
   "outputs": [],
   "source": [
    "import torch\n",
    "import torch.nn as nn\n",
    "import pandas as pd\n",
    "import pickle\n",
    "import numpy as np\n",
    "import re\n",
    "import spacy\n",
    "\n",
    "from collections import Counter\n",
    "from torch.utils.data import Dataset, DataLoader\n",
    "import torch.nn.functional as F\n",
    "import string\n",
    "from sklearn.preprocessing import LabelEncoder\n",
    "from sklearn.model_selection import train_test_split\n",
    "from torch.nn.utils.rnn import pack_padded_sequence, pad_packed_sequence\n",
    "from sklearn.metrics import mean_squared_error\n",
    "import matplotlib.pyplot as plt\n",
    "#from jupyterthemes import jtplot\n",
    "from pylab import rcParams"
   ]
  },
  {
   "cell_type": "code",
   "execution_count": 9,
   "metadata": {},
   "outputs": [],
   "source": [
    "#jtplot.style()"
   ]
  },
  {
   "cell_type": "code",
   "execution_count": 10,
   "metadata": {},
   "outputs": [],
   "source": [
    "RANDOM_SEED = 42\n",
    "np.random.seed(RANDOM_SEED)\n",
    "torch.manual_seed(RANDOM_SEED)\n",
    "device = torch.device(\"cuda:0\" if torch.cuda.is_available() else \"cpu\")"
   ]
  },
  {
   "cell_type": "code",
   "execution_count": 11,
   "metadata": {},
   "outputs": [],
   "source": [
    "#raw_data_path = 'data/evaluation-final.csv'\n",
    "raw_data_path = 'annotation-final-sorted-filtered.csv'\n",
    "df = pd.read_csv(raw_data_path)"
   ]
  },
  {
   "cell_type": "code",
   "execution_count": 12,
   "metadata": {},
   "outputs": [],
   "source": [
    "def clean_text(string):\n",
    "    output = string.strip()\n",
    "    # replacements = ((\"“\", '\"'), (\"”\", '\"'), (\"//\", \"\"), (\"«\", '\"'), (\"»\",'\"'))\n",
    "    \n",
    "    # Quitamos símbolos que no aportan información\n",
    "    replacements = (\n",
    "        (\"“\", ' '), (\"”\", ' '), (\"//\", \" \"), (\"«\", ' '), (\"»\", ' '), (\",\", ' '),\n",
    "        (\";\", ' '), (\".\", ' '), (\"_\", \" \"), (\":\", \" \"), (\"x000D\", \" \"), (\"!\", \" \"),\n",
    "        (\"¡\", \" \"), (\"¿\", \" \"), (\"?\", \" \"), (\"-\", \" \"), (\"…\", \" \"), ('\"', ' '),\n",
    "        (\"[\", \"\"), (\"]\", \"\"), (\"´\", \" \"), (\"'\", \" \"), (\"–\", \" \"), (\"–\", \" \"),\n",
    "        (\"^\", \" \"), (\"•\", \" \"), (\"—\", \" \"), (\"/\", \" \"), (\"~\", \" \"), ('#', ' '),\n",
    "        (\">\", \" \"), (\"<\", \" \"), (\")\", \" \"), (\"(\", \" \"), (\"%\", \" \"), (\"―\", \" \"),\n",
    "        (\"£\", \" \"), (\"€\", \" \"), (\"|\", \" \"), (\"¥\", \" \"), (\"·\", \" \"), ('¨', ' '),\n",
    "         (\"°\", \" \"), (\"*\", \" \"), (\"\\\\\", ''),\n",
    "    )\n",
    "    for replacement in replacements:\n",
    "        output = output.replace(*replacement)\n",
    "    # Any sequence of two or more spaces should be converted into one space\n",
    "    #output = re.sub(r'(?is)\\s+', ' ', output)\n",
    "    output = re.sub(r'[0-9]', '', output)  # Quitar números\n",
    "    output = re.sub(r'\\t+', ' ', output)  # Cambiar tabulaciones por espacios\n",
    "    output = re.sub(r'\\n{2,}', '\\n', output)  # Cambiar varios saltos de línea seguidos por uno solo\n",
    "    output = re.sub(r' {2,}', ' ', output)  # Cambiar varios espacios seguidos por uno solo\n",
    "    output = re.sub(r'^\\s+\\*.*\\n', ' ', output)  # Quitar líneas con * y espacios\n",
    "    output = re.sub(r'\\n\\s+\\n*', ' ', output)  # Quitar líneas en las que hay únicamente espacios\n",
    "    output = re.sub(r'\\n', ' <CR> ', output)  # Cambiar saltos de línea por etiqueta <CR>\n",
    "    return output.strip()\n",
    "\n",
    "\n",
    "def clean_labels(label):\n",
    "    return \"unknown\" if str(label) == \"None\" else label"
   ]
  },
  {
   "cell_type": "code",
   "execution_count": 13,
   "metadata": {},
   "outputs": [],
   "source": [
    "def encode_sentence(text, vocab2index, N=300):\n",
    "    tokenized = tokenize(text)\n",
    "    encoded = np.zeros(N, dtype=int)\n",
    "    enc1 = np.array([vocab2index.get(word, vocab2index[\"UNK\"]) for word in tokenized])\n",
    "    length = min(N, len(enc1))\n",
    "    encoded[:length] = enc1[:length]\n",
    "    return encoded, length"
   ]
  },
  {
   "cell_type": "markdown",
   "metadata": {},
   "source": [
    "## Load Dataset"
   ]
  },
  {
   "cell_type": "code",
   "execution_count": 14,
   "metadata": {},
   "outputs": [],
   "source": [
    "def prepare_data():\n",
    "    df_out = pd.DataFrame()\n",
    "    df = (pd\n",
    "        .read_csv(raw_data_path)\n",
    "        .rename(columns={\"Stanza_text\": \"text\", \"ST_Correct\": \"stanza\"})\n",
    "        .assign(\n",
    "            text=lambda x: x[\"text\"].apply(clean_text),\n",
    "            stanza=lambda x: x[\"stanza\"].apply(clean_labels),\n",
    "        )\n",
    "    )\n",
    "    label_encoder = LabelEncoder()\n",
    "    df_out[\"text\"] = df[\"text\"]\n",
    "    df_out[\"label\"] = label_encoder.fit_transform(df[\"stanza\"])\n",
    "    return df_out"
   ]
  },
  {
   "cell_type": "code",
   "execution_count": 15,
   "metadata": {},
   "outputs": [],
   "source": [
    "df_full = prepare_data()"
   ]
  },
  {
   "cell_type": "code",
   "execution_count": 16,
   "metadata": {},
   "outputs": [],
   "source": [
    "tok = spacy.load('es_core_news_lg')\n",
    "def tokenize (text):\n",
    "    #text = re.sub(r\"[^\\x00-\\x7F]+\", \" \", text)\n",
    "    #regex = re.compile('[' + re.escape(string.punctuation) + '0-9\\\\r\\\\t\\\\n]') # remove punctuation and numbers\n",
    "    #nopunct = regex.sub(\" \", text.lower())\n",
    "    return [token.text for token in tok.tokenizer(text)]\n",
    "    \n",
    "    # Para usar todo el texto en minúsculas, comentar la línea return de arriba y descomentar la siguiente:\n",
    "    #return [token.lower_ for token in tok.tokenizer(text)]"
   ]
  },
  {
   "cell_type": "code",
   "execution_count": 17,
   "metadata": {},
   "outputs": [],
   "source": [
    "counts = Counter()\n",
    "for index, row in df_full.iterrows():\n",
    "    counts.update(tokenize(row['text']))"
   ]
  },
  {
   "cell_type": "code",
   "execution_count": 18,
   "metadata": {},
   "outputs": [],
   "source": [
    "vocab2index = {\"\":0, \"UNK\":1}\n",
    "words = [\"\", \"UNK\"]\n",
    "for word in counts:\n",
    "    vocab2index[word] = len(words)\n",
    "    words.append(word)"
   ]
  },
  {
   "cell_type": "code",
   "execution_count": 19,
   "metadata": {},
   "outputs": [
    {
     "name": "stderr",
     "output_type": "stream",
     "text": [
      "<ipython-input-19-25aafb958aff>:1: VisibleDeprecationWarning: Creating an ndarray from ragged nested sequences (which is a list-or-tuple of lists-or-tuples-or ndarrays with different lengths or shapes) is deprecated. If you meant to do this, you must specify 'dtype=object' when creating the ndarray\n",
      "  df_full['encoded'] = df_full['text'].apply(lambda x: np.array(encode_sentence(x,vocab2index )))\n"
     ]
    }
   ],
   "source": [
    "df_full['encoded'] = df_full['text'].apply(lambda x: np.array(encode_sentence(x,vocab2index )))\n",
    "df_full['length'] = df_full['text'].apply(lambda x: len(x.split()))"
   ]
  },
  {
   "cell_type": "code",
   "execution_count": 20,
   "metadata": {},
   "outputs": [],
   "source": [
    "class StanzasDataset(Dataset):\n",
    "    def __init__(self, X, Y):\n",
    "        self.X = X\n",
    "        self.y = Y\n",
    "        \n",
    "    def __len__(self):\n",
    "        return len(self.y)\n",
    "    \n",
    "    def __getitem__(self, idx):\n",
    "        return self.X[idx][0], self.y[idx], self.X[idx][1]"
   ]
  },
  {
   "cell_type": "code",
   "execution_count": 21,
   "metadata": {},
   "outputs": [],
   "source": [
    "train, test = train_test_split(df_full,stratify=df_full[\"label\"], test_size=0.2, random_state=42)\n",
    "X_test = list(test['encoded'])\n",
    "y_test = list(test['label'])"
   ]
  },
  {
   "cell_type": "code",
   "execution_count": 22,
   "metadata": {},
   "outputs": [],
   "source": [
    "X = list(train['encoded'])\n",
    "y = list(train['label'])\n",
    "X_train, X_valid, y_train, y_valid = train_test_split(X, y,stratify=train[\"label\"], test_size=0.2, random_state=42)"
   ]
  },
  {
   "cell_type": "code",
   "execution_count": 23,
   "metadata": {},
   "outputs": [],
   "source": [
    "train_ds = StanzasDataset(X_train, y_train)\n",
    "valid_ds = StanzasDataset(X_valid, y_valid)\n",
    "test_ds = StanzasDataset(X_test, y_test)"
   ]
  },
  {
   "cell_type": "markdown",
   "metadata": {},
   "source": [
    "## Embeddings"
   ]
  },
  {
   "cell_type": "markdown",
   "metadata": {},
   "source": [
    "### Bajar el archivo SBW-vectors-300-min5.txt.zip de kaggle y descomprimir:\n",
    "https://www.kaggle.com/rtatman/pretrained-word-vectors-for-spanish"
   ]
  },
  {
   "cell_type": "code",
   "execution_count": 24,
   "metadata": {},
   "outputs": [],
   "source": [
    "def load_glove_vectors(glove_file=\"SBW-vectors-300-min5.txt\"):\n",
    "    \"\"\"Load the glove word vectors\"\"\"\n",
    "    word_vectors = {}\n",
    "    with open(glove_file) as f:\n",
    "        for line in f:\n",
    "            split = line.split()\n",
    "            word_vectors[split[0]] = np.array([float(x) for x in split[1:]])\n",
    "    return word_vectors"
   ]
  },
  {
   "cell_type": "code",
   "execution_count": 25,
   "metadata": {},
   "outputs": [],
   "source": [
    "def get_emb_matrix(pretrained, word_counts, emb_size = 300):\n",
    "    \"\"\" Creates embedding matrix from word vectors\"\"\"\n",
    "    oov_words = []\n",
    "    vocab_size = len(word_counts) + 2\n",
    "    vocab_to_idx = {}\n",
    "    vocab = [\"\", \"UNK\"]\n",
    "    W = np.zeros((vocab_size, emb_size), dtype=\"float32\")\n",
    "    W[0] = np.zeros(emb_size, dtype='float32') # adding a vector for padding\n",
    "    W[1] = np.random.uniform(-0.25, 0.25, emb_size) # adding a vector for unknown words \n",
    "    vocab_to_idx[\"UNK\"] = 1\n",
    "    i = 2\n",
    "    for word in word_counts:\n",
    "        if word in word_vecs:\n",
    "            W[i] = word_vecs[word]\n",
    "        else:\n",
    "            W[i] = np.random.uniform(-0.25,0.25, emb_size)\n",
    "            oov_words.append(word)\n",
    "        vocab_to_idx[word] = i\n",
    "        vocab.append(word)\n",
    "        i += 1   \n",
    "    return W, np.array(vocab), vocab_to_idx, oov_words"
   ]
  },
  {
   "cell_type": "code",
   "execution_count": 26,
   "metadata": {},
   "outputs": [],
   "source": [
    "word_vecs = load_glove_vectors()"
   ]
  },
  {
   "cell_type": "code",
   "execution_count": 27,
   "metadata": {},
   "outputs": [],
   "source": [
    "pretrained_weights, vocab, vocab2index, oov_words = get_emb_matrix(word_vecs, counts)"
   ]
  },
  {
   "cell_type": "markdown",
   "metadata": {},
   "source": [
    "### Porcentaje de palabras fuera del vocabulario:"
   ]
  },
  {
   "cell_type": "code",
   "execution_count": 28,
   "metadata": {},
   "outputs": [
    {
     "data": {
      "text/plain": [
       "12.597119729527648"
      ]
     },
     "execution_count": 28,
     "metadata": {},
     "output_type": "execute_result"
    }
   ],
   "source": [
    "len(oov_words) * 100 / len(vocab)"
   ]
  },
  {
   "cell_type": "code",
   "execution_count": 30,
   "metadata": {},
   "outputs": [],
   "source": [
    "## Descomentar para usar pesos preentrenados\n",
    "# pretrained_weights = pickle.load(open(\"glove_weights_verses\",\"rb\"))"
   ]
  },
  {
   "cell_type": "markdown",
   "metadata": {},
   "source": [
    "# Training"
   ]
  },
  {
   "cell_type": "code",
   "execution_count": 38,
   "metadata": {},
   "outputs": [],
   "source": [
    "def train_model(model, epochs=10, lr=0.001):\n",
    "    parameters = filter(lambda p: p.requires_grad, model.parameters())\n",
    "    optimizer = torch.optim.AdamW(parameters, lr=lr)\n",
    "    train_losses = []\n",
    "    valid_losses = []    \n",
    "    for i in range(epochs):\n",
    "        model.train()\n",
    "        sum_loss = 0.0\n",
    "        total = 0\n",
    "        for x, y, l in train_dl:\n",
    "            x = x.long()\n",
    "            y = y.long()\n",
    "            x = x.cuda()\n",
    "            y = y.cuda()\n",
    "            y_pred = model(x, l.cpu())\n",
    "            optimizer.zero_grad()\n",
    "            loss = F.cross_entropy(y_pred, y)\n",
    "            loss.backward()\n",
    "            optimizer.step()\n",
    "            sum_loss += loss.item()*y.shape[0]\n",
    "            total += y.shape[0]\n",
    "        #val_loss, val_acc, val_rmse = validation_metrics(model, val_dl)\n",
    "        val_loss, val_acc, _ = validation_metrics(model, val_dl)\n",
    "        \n",
    "        train_losses.append(sum_loss/total)\n",
    "        valid_losses.append(val_loss)\n",
    "        if i % 5 == 9999999: #1:\n",
    "            #print(i, \"train loss %.3f, val loss %.3f, val accuracy %.3f, and val rmse %.3f\" % (sum_loss/total, val_loss, val_acc, val_rmse))\n",
    "            print(\"train loss %.3f, val loss %.3f, val accuracy %.3f\" % (sum_loss/total, val_loss, val_acc))\n",
    "        \n",
    "    test_acc = test_model(model, test_dl)\n",
    "    print(\"test accuracy %.3f\" % (test_acc))\n",
    "    if PRINT_PLOT:\n",
    "        #Print plot\n",
    "        rcParams['figure.figsize'] = 20, 10\n",
    "        plt.plot(range(1,len(train_losses)+1), train_losses, label='Train')\n",
    "        plt.plot(range(1,len(valid_losses)+1), valid_losses, label='Validation')\n",
    "        plt.xlabel('Epoch')\n",
    "        plt.ylabel('Loss')\n",
    "        leg = plt.legend();\n",
    "\n",
    "def validation_metrics (model, valid_dl):\n",
    "    model.eval()\n",
    "    correct = 0\n",
    "    total = 0\n",
    "    sum_loss = 0.0\n",
    "    sum_rmse = 0.0\n",
    "    for x, y, l in valid_dl:\n",
    "        x = x.long()\n",
    "        y = y.long()\n",
    "        x = x.cuda()\n",
    "        y = y.cuda()\n",
    "        y_hat = model(x, l.cpu())\n",
    "        loss = F.cross_entropy(y_hat, y)\n",
    "        pred = torch.max(y_hat, 1)[1]\n",
    "        correct += (pred == y).float().sum()\n",
    "        total += y.shape[0]\n",
    "        sum_loss += loss.item()*y.shape[0]\n",
    "        #sum_rmse += np.sqrt(mean_squared_error(pred, y.unsqueeze(-1)))*y.shape[0]\n",
    "    return sum_loss/total, correct/total, sum_rmse/total\n",
    "\n",
    "def test_model(model, test_dl):\n",
    "    model.eval()\n",
    "    correct = 0\n",
    "    total = 0\n",
    "    sum_loss = 0.0\n",
    "    sum_rmse = 0.0\n",
    "    for x, y, l in test_dl:\n",
    "        x = x.long()\n",
    "        y = y.long()\n",
    "        x = x.cuda()\n",
    "        y = y.cuda()\n",
    "        y_hat = model(x, l.cpu())\n",
    "        pred = torch.max(y_hat, 1)[1]\n",
    "        correct += (pred == y).float().sum()\n",
    "        total += y.shape[0]\n",
    "    return correct/total"
   ]
  },
  {
   "cell_type": "code",
   "execution_count": 39,
   "metadata": {},
   "outputs": [],
   "source": [
    "# 1. Añadir información de número de versos en los embedings\n",
    "# 2. Añadir info de patrón métrico\n",
    "class BiLSTM(nn.Module):\n",
    "    def __init__(self, vocab_size, embedding_dim, hidden_dim, glove_weights) :\n",
    "        super().__init__()\n",
    "        self.hidden_dim = hidden_dim\n",
    "        self.embeddings = nn.Embedding(vocab_size, embedding_dim, padding_idx=0)\n",
    "        self.embeddings.weight.data.copy_(torch.from_numpy(glove_weights))\n",
    "        self.embeddings.weight.requires_grad = False ## False freezes embeddings\n",
    "        self.lstm = nn.LSTM(embedding_dim, hidden_dim, batch_first=True, num_layers=3, dropout=0.2, bidirectional=True)\n",
    "        self.linear = nn.Linear(hidden_dim, 46)\n",
    "        \n",
    "    def forward(self, text, text_length):\n",
    "        x = self.embeddings(text)\n",
    "        x_pack = pack_padded_sequence(x, text_length, batch_first=True, enforce_sorted=False)\n",
    "        out_pack, (ht, ct) = self.lstm(x_pack)\n",
    "        out = self.linear(ht[-1])\n",
    "        return out"
   ]
  },
  {
   "cell_type": "code",
   "execution_count": 40,
   "metadata": {},
   "outputs": [],
   "source": [
    "batch_size = 1024\n",
    "vocab_size = len(words)\n",
    "train_dl = DataLoader(train_ds, batch_size=batch_size)#, shuffle=True)\n",
    "val_dl = DataLoader(valid_ds, batch_size=batch_size)\n",
    "test_dl = DataLoader(test_ds)"
   ]
  },
  {
   "cell_type": "code",
   "execution_count": 41,
   "metadata": {},
   "outputs": [],
   "source": [
    "model = BiLSTM(vocab_size, 300, 300, pretrained_weights)\n",
    "model = model.cuda()"
   ]
  },
  {
   "cell_type": "code",
   "execution_count": 43,
   "metadata": {},
   "outputs": [
    {
     "name": "stdout",
     "output_type": "stream",
     "text": [
      "test accuracy 0.665\n"
     ]
    },
    {
     "data": {
      "image/png": "[encoded data removed]",
      "text/plain": [
       "<Figure size 1440x720 with 1 Axes>"
      ]
     },
     "metadata": {},
     "output_type": "display_data"
    }
   ],
   "source": [
    "PRINT_PLOT = True\n",
    "train_model(model, epochs=325, lr=0.000125)"
   ]
  },
  {
   "cell_type": "markdown",
   "metadata": {},
   "source": [
    "## Entrenar el modelo 10 veces para calcular la media"
   ]
  },
  {
   "cell_type": "code",
   "execution_count": 463,
   "metadata": {},
   "outputs": [],
   "source": [
    "PRINT_PLOT = False"
   ]
  },
  {
   "cell_type": "code",
   "execution_count": 464,
   "metadata": {
    "scrolled": true
   },
   "outputs": [
    {
     "name": "stdout",
     "output_type": "stream",
     "text": [
      "test accuracy 0.642\n",
      "test accuracy 0.670\n",
      "test accuracy 0.650\n",
      "test accuracy 0.662\n",
      "test accuracy 0.656\n",
      "test accuracy 0.664\n",
      "test accuracy 0.596\n",
      "test accuracy 0.659\n",
      "test accuracy 0.650\n"
     ]
    },
    {
     "ename": "KeyboardInterrupt",
     "evalue": "",
     "output_type": "error",
     "traceback": [
      "\u001b[0;31m---------------------------------------------------------------------------\u001b[0m",
      "\u001b[0;31mKeyboardInterrupt\u001b[0m                         Traceback (most recent call last)",
      "\u001b[0;32m<ipython-input-464-ddd15a7f21ab>\u001b[0m in \u001b[0;36m<module>\u001b[0;34m\u001b[0m\n\u001b[1;32m      2\u001b[0m     \u001b[0mmodel\u001b[0m \u001b[0;34m=\u001b[0m \u001b[0mBiLSTM\u001b[0m\u001b[0;34m(\u001b[0m\u001b[0mvocab_size\u001b[0m\u001b[0;34m,\u001b[0m \u001b[0;36m300\u001b[0m\u001b[0;34m,\u001b[0m \u001b[0;36m300\u001b[0m\u001b[0;34m,\u001b[0m \u001b[0mpretrained_weights\u001b[0m\u001b[0;34m)\u001b[0m\u001b[0;34m\u001b[0m\u001b[0;34m\u001b[0m\u001b[0m\n\u001b[1;32m      3\u001b[0m     \u001b[0mmodel\u001b[0m \u001b[0;34m=\u001b[0m \u001b[0mmodel\u001b[0m\u001b[0;34m.\u001b[0m\u001b[0mcuda\u001b[0m\u001b[0;34m(\u001b[0m\u001b[0;34m)\u001b[0m\u001b[0;34m\u001b[0m\u001b[0;34m\u001b[0m\u001b[0m\n\u001b[0;32m----> 4\u001b[0;31m     \u001b[0mtrain_model\u001b[0m\u001b[0;34m(\u001b[0m\u001b[0mmodel\u001b[0m\u001b[0;34m,\u001b[0m \u001b[0mepochs\u001b[0m\u001b[0;34m=\u001b[0m\u001b[0;36m325\u001b[0m\u001b[0;34m,\u001b[0m \u001b[0mlr\u001b[0m\u001b[0;34m=\u001b[0m\u001b[0;36m0.000125\u001b[0m\u001b[0;34m)\u001b[0m\u001b[0;34m\u001b[0m\u001b[0;34m\u001b[0m\u001b[0m\n\u001b[0m",
      "\u001b[0;32m<ipython-input-462-7207ad16de5e>\u001b[0m in \u001b[0;36mtrain_model\u001b[0;34m(model, epochs, lr)\u001b[0m\n\u001b[1;32m     19\u001b[0m             \u001b[0mloss\u001b[0m\u001b[0;34m.\u001b[0m\u001b[0mbackward\u001b[0m\u001b[0;34m(\u001b[0m\u001b[0;34m)\u001b[0m\u001b[0;34m\u001b[0m\u001b[0;34m\u001b[0m\u001b[0m\n\u001b[1;32m     20\u001b[0m             \u001b[0moptimizer\u001b[0m\u001b[0;34m.\u001b[0m\u001b[0mstep\u001b[0m\u001b[0;34m(\u001b[0m\u001b[0;34m)\u001b[0m\u001b[0;34m\u001b[0m\u001b[0;34m\u001b[0m\u001b[0m\n\u001b[0;32m---> 21\u001b[0;31m             \u001b[0msum_loss\u001b[0m \u001b[0;34m+=\u001b[0m \u001b[0mloss\u001b[0m\u001b[0;34m.\u001b[0m\u001b[0mitem\u001b[0m\u001b[0;34m(\u001b[0m\u001b[0;34m)\u001b[0m\u001b[0;34m*\u001b[0m\u001b[0my\u001b[0m\u001b[0;34m.\u001b[0m\u001b[0mshape\u001b[0m\u001b[0;34m[\u001b[0m\u001b[0;36m0\u001b[0m\u001b[0;34m]\u001b[0m\u001b[0;34m\u001b[0m\u001b[0;34m\u001b[0m\u001b[0m\n\u001b[0m\u001b[1;32m     22\u001b[0m             \u001b[0mtotal\u001b[0m \u001b[0;34m+=\u001b[0m \u001b[0my\u001b[0m\u001b[0;34m.\u001b[0m\u001b[0mshape\u001b[0m\u001b[0;34m[\u001b[0m\u001b[0;36m0\u001b[0m\u001b[0;34m]\u001b[0m\u001b[0;34m\u001b[0m\u001b[0;34m\u001b[0m\u001b[0m\n\u001b[1;32m     23\u001b[0m         \u001b[0;31m#val_loss, val_acc, val_rmse = validation_metrics(model, val_dl)\u001b[0m\u001b[0;34m\u001b[0m\u001b[0;34m\u001b[0m\u001b[0;34m\u001b[0m\u001b[0m\n",
      "\u001b[0;31mKeyboardInterrupt\u001b[0m: "
     ]
    }
   ],
   "source": [
    "for i in range(0,10):\n",
    "    model = BiLSTM(vocab_size, 300, 300, pretrained_weights)\n",
    "    model = model.cuda()\n",
    "    train_model(model, epochs=325, lr=0.000125)"
   ]
  },
  {
   "cell_type": "code",
   "execution_count": null,
   "metadata": {},
   "outputs": [],
   "source": []
  }
 ],
 "metadata": {
  "kernelspec": {
   "display_name": "Python 3",
   "language": "python",
   "name": "python3"
  },
  "language_info": {
   "codemirror_mode": {
    "name": "ipython",
    "version": 3
   },
   "file_extension": ".py",
   "mimetype": "text/x-python",
   "name": "python",
   "nbconvert_exporter": "python",
   "pygments_lexer": "ipython3",
   "version": "3.8.6"
  }
 },
 "nbformat": 4,
 "nbformat_minor": 4
}
